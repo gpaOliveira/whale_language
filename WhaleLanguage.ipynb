{
 "cells": [
  {
   "cell_type": "code",
   "execution_count": 3,
   "metadata": {},
   "outputs": [
    {
     "data": {
      "text/plain": [
       "['Lorem ipsum dolor sit amet, consectetur adipiscing elit.',\n",
       " 'Aliquam ut tellus scelerisque, faucibus nisi sed, pellentesque odio.',\n",
       " 'Donec ut purus elementum, blandit nulla nec, cursus risus.',\n",
       " 'Aenean dolor sapien, fringilla ut eleifend nec, rhoncus id sapien.',\n",
       " 'Nullam mollis faucibus elit, nec tristique turpis ullamcorper nec.',\n",
       " 'Vivamus vel tellus vitae justo commodo aliquet a id nisi.',\n",
       " 'Curabitur vulputate ipsum leo, non fringilla lectus feugiat vitae.',\n",
       " 'Maecenas ornare scelerisque eros sed sollicitudin.',\n",
       " 'Cras sit amet pharetra velit. Pellentesque sed sodales sapien.',\n",
       " 'Mauris ut mi finibus, imperdiet diam ut, scelerisque eros.',\n",
       " 'Praesent tempor eu magna a bibendum.',\n",
       " 'Morbi sed faucibus arcu, ut hendrerit nisi.',\n",
       " 'Donec maximus tempor urna, venenatis iaculis lacus vehicula non.',\n",
       " 'Curabitur lorem ligula, sagittis in velit vitae, condimentum venenatis nunc.',\n",
       " 'Proin vestibulum ultricies facilisis.',\n",
       " 'Ut eros metus, viverra vel orci vitae, aliquam scelerisque tortor.',\n",
       " 'Aenean interdum aliquet aliquam.',\n",
       " 'Sed finibus molestie turpis, ac consectetur lorem maximus sit amet.',\n",
       " 'Nunc dapibus ac ligula a hendrerit.',\n",
       " 'Nunc cursus ante in dui tincidunt, nec convallis ex elementum.',\n",
       " 'Donec vulputate massa dignissim cursus tristique.']"
      ]
     },
     "execution_count": 3,
     "metadata": {},
     "output_type": "execute_result"
    }
   ],
   "source": [
    "import os\n",
    "\n",
    "path_to_file = os.path.join(\"data\", \"input.txt\")\n",
    "with open(path_to_file , 'r') as f:\n",
    "    data = [l.replace(\"\\n\", \"\").rstrip().lstrip() for l in f.readlines()]\n",
    "data"
   ]
  },
  {
   "cell_type": "code",
   "execution_count": 5,
   "metadata": {},
   "outputs": [],
   "source": [
    "def whale_language(line):\n",
    "    slow_repetitions = 3\n",
    "    vowels = [\"A\", \"E\", \"I\", \"O\", \"U\"]\n",
    "    vowels_to_repeat = [\"E\", \"U\"]\n",
    "    return \"\".join(\n",
    "        [c*slow_repetitions if c in vowels_to_repeat else c for c in line.upper() if c in vowels ]\n",
    "    )"
   ]
  },
  {
   "cell_type": "code",
   "execution_count": 7,
   "metadata": {},
   "outputs": [
    {
     "data": {
      "text/plain": [
       "['OEEEIUUUOOIAEEEOEEEEEEUUUAIIIEEEI',\n",
       " 'AIUUUAUUUEEEUUUEEEEEEIUUUEEEAUUUIUUUIIEEEEEEEEEEEEUUUEEEOIO',\n",
       " 'OEEEUUUUUUUUUEEEEEEEEEUUUAIUUUAEEEUUUUUUIUUU',\n",
       " 'AEEEEEEAOOAIEEEIIAUUUEEEEEEIEEEEEEOUUUIAIEEE',\n",
       " 'UUUAOIAUUUIUUUEEEIEEEIIUUUEEEUUUIUUUAOEEEEEE',\n",
       " 'IAUUUEEEEEEUUUIAEEEUUUOOOOAIUUUEEEAIII',\n",
       " 'UUUAIUUUUUUUUUAEEEIUUUEEEOOIIAEEEUUUEEEUUUIAIAEEE',\n",
       " 'AEEEEEEAOAEEEEEEEEEIUUUEEEEEEOEEEOIIUUUI',\n",
       " 'AIAEEEAEEEAEEEIEEEEEEEEEUUUEEEEEEOAEEEAIEEE',\n",
       " 'AUUUIUUUIIIUUUIEEEIEEEIAUUUEEEEEEIUUUEEEEEEO',\n",
       " 'AEEEEEEEEEOEEEUUUAAAIEEEUUU',\n",
       " 'OIEEEAUUUIUUUAUUUUUUEEEEEEIII',\n",
       " 'OEEEAIUUUEEEOUUUAEEEEEEAIIAUUUIAUUUEEEIUUUAO',\n",
       " 'UUUAIUUUOEEEIUUUAAIIIEEEIIAEEEOIEEEUUUEEEEEEAIUUU',\n",
       " 'OIEEEIUUUUUUUUUIIEEEAIII',\n",
       " 'UUUEEEOEEEUUUIEEEAEEEOIIAEEEAIUUUAEEEEEEIUUUEEEOO',\n",
       " 'AEEEEEEAIEEEUUUAIUUUEEEAIUUUA',\n",
       " 'EEEIIUUUOEEEIEEEUUUIAOEEEEEEUUUOEEEAIUUUIAEEE',\n",
       " 'UUUAIUUUAIUUUAAEEEEEEI',\n",
       " 'UUUUUUUUUAEEEIUUUIIIUUUEEEOAIEEEEEEEEEEEEUUU',\n",
       " 'OEEEUUUUUUAEEEAAIIIUUUUUUIIUUUEEE']"
      ]
     },
     "execution_count": 7,
     "metadata": {},
     "output_type": "execute_result"
    }
   ],
   "source": [
    "list(map(whale_language, data))"
   ]
  },
  {
   "cell_type": "code",
   "execution_count": null,
   "metadata": {},
   "outputs": [],
   "source": []
  }
 ],
 "metadata": {
  "kernelspec": {
   "display_name": "Python 3",
   "language": "python",
   "name": "python3"
  },
  "language_info": {
   "codemirror_mode": {
    "name": "ipython",
    "version": 3
   },
   "file_extension": ".py",
   "mimetype": "text/x-python",
   "name": "python",
   "nbconvert_exporter": "python",
   "pygments_lexer": "ipython3",
   "version": "3.7.0"
  }
 },
 "nbformat": 4,
 "nbformat_minor": 4
}
